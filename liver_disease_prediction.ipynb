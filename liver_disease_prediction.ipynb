{
 "cells": [
  {
   "cell_type": "markdown",
   "id": "ff5ebab9",
   "metadata": {},
   "source": [
    "# 📌 Project Introduction  \n",
    "\n",
    "## Liver Disease Prediction using Machine Learning  \n",
    "\n",
    "Liver diseases are among the major public health concerns, where early diagnosis plays a crucial role in effective treatment and increasing patients' life expectancy. One of the main challenges in modern medicine is leveraging clinical data and building intelligent models to assist physicians in decision-making.  \n",
    "\n",
    "In this project, we use the *Indian Liver Patient Dataset (ILPD)*, which includes various clinical features such as age, gender, blood biochemistry test results, and other indicators related to liver function. The main objectives of this project are to:  \n",
    "\n",
    "- Predict the likelihood of a patient having liver disease  \n",
    "- Analyze the most influential features contributing to the prediction  \n",
    "- Provide a reproducible framework for further research  \n",
    "\n",
    "By applying this dataset to different machine learning algorithms, we aim to develop a reliable and efficient model for liver disease prediction, which could potentially serve as a decision-support tool in healthcare applications."
   ]
  },
  {
   "cell_type": "markdown",
   "id": "3ce37e08",
   "metadata": {},
   "source": [
    "## 📚 Importing Libraries  \n",
    "\n",
    "In this section, we import the essential Python libraries required for:  \n",
    "\n",
    "- *Data manipulation & analysis* → pandas, numpy  \n",
    "- *Data visualization* → matplotlib, seaborn  \n",
    "- *Machine learning models & evaluation* → scikit-learn  \n",
    "\n",
    "These libraries provide the foundation for data preprocessing, exploratory data analysis (EDA), visualization, and building machine learning models."
   ]
  },
  {
   "cell_type": "code",
   "execution_count": 5,
   "id": "4db88c94",
   "metadata": {},
   "outputs": [],
   "source": [
    "# Data manipulation & analysis\n",
    "import pandas as pd\n",
    "import numpy as np\n",
    "\n",
    "# Data visualization\n",
    "import matplotlib.pyplot as plt\n",
    "import seaborn as sns\n",
    "\n",
    "# Machine learning models & evaluation\n",
    "from sklearn.model_selection import train_test_split, cross_val_score\n",
    "from sklearn.preprocessing import StandardScaler\n",
    "from sklearn.metrics import accuracy_score, confusion_matrix, classification_report\n",
    "from sklearn.linear_model import LogisticRegression\n",
    "\n",
    "# To ignore warnings for cleaner output\n",
    "import warnings\n",
    "warnings.filterwarnings('ignore')"
   ]
  },
  {
   "cell_type": "markdown",
   "id": "43b481ca",
   "metadata": {},
   "source": [
    "## 📂 Loading the Dataset  \n",
    "\n",
    "In this step, we load the *Indian Liver Patient Dataset (ILPD)* into a pandas DataFrame.  \n",
    "This allows us to explore the structure of the dataset and perform initial checks such as:  \n",
    "\n",
    "- Displaying the first few rows using head()  \n",
    "- Verifying the shape (rows × columns)  \n",
    "- Getting a quick overview of the features available for analysis"
   ]
  },
  {
   "cell_type": "code",
   "execution_count": 6,
   "id": "b45ea2f0",
   "metadata": {},
   "outputs": [
    {
     "data": {
      "text/html": [
       "<div>\n",
       "<style scoped>\n",
       "    .dataframe tbody tr th:only-of-type {\n",
       "        vertical-align: middle;\n",
       "    }\n",
       "\n",
       "    .dataframe tbody tr th {\n",
       "        vertical-align: top;\n",
       "    }\n",
       "\n",
       "    .dataframe thead th {\n",
       "        text-align: right;\n",
       "    }\n",
       "</style>\n",
       "<table border=\"1\" class=\"dataframe\">\n",
       "  <thead>\n",
       "    <tr style=\"text-align: right;\">\n",
       "      <th></th>\n",
       "      <th>age</th>\n",
       "      <th>gender</th>\n",
       "      <th>tot_bilirubin</th>\n",
       "      <th>direct_bilirubin</th>\n",
       "      <th>tot_proteins</th>\n",
       "      <th>albumin</th>\n",
       "      <th>ag_ratio</th>\n",
       "      <th>sgpt</th>\n",
       "      <th>sgot</th>\n",
       "      <th>alkphos</th>\n",
       "      <th>is_patient</th>\n",
       "    </tr>\n",
       "  </thead>\n",
       "  <tbody>\n",
       "    <tr>\n",
       "      <th>0</th>\n",
       "      <td>65</td>\n",
       "      <td>Female</td>\n",
       "      <td>0.7</td>\n",
       "      <td>0.1</td>\n",
       "      <td>187</td>\n",
       "      <td>16</td>\n",
       "      <td>18</td>\n",
       "      <td>6.8</td>\n",
       "      <td>3.3</td>\n",
       "      <td>0.90</td>\n",
       "      <td>1</td>\n",
       "    </tr>\n",
       "    <tr>\n",
       "      <th>1</th>\n",
       "      <td>62</td>\n",
       "      <td>Male</td>\n",
       "      <td>10.9</td>\n",
       "      <td>5.5</td>\n",
       "      <td>699</td>\n",
       "      <td>64</td>\n",
       "      <td>100</td>\n",
       "      <td>7.5</td>\n",
       "      <td>3.2</td>\n",
       "      <td>0.74</td>\n",
       "      <td>1</td>\n",
       "    </tr>\n",
       "    <tr>\n",
       "      <th>2</th>\n",
       "      <td>62</td>\n",
       "      <td>Male</td>\n",
       "      <td>7.3</td>\n",
       "      <td>4.1</td>\n",
       "      <td>490</td>\n",
       "      <td>60</td>\n",
       "      <td>68</td>\n",
       "      <td>7.0</td>\n",
       "      <td>3.3</td>\n",
       "      <td>0.89</td>\n",
       "      <td>1</td>\n",
       "    </tr>\n",
       "    <tr>\n",
       "      <th>3</th>\n",
       "      <td>58</td>\n",
       "      <td>Male</td>\n",
       "      <td>1.0</td>\n",
       "      <td>0.4</td>\n",
       "      <td>182</td>\n",
       "      <td>14</td>\n",
       "      <td>20</td>\n",
       "      <td>6.8</td>\n",
       "      <td>3.4</td>\n",
       "      <td>1.00</td>\n",
       "      <td>1</td>\n",
       "    </tr>\n",
       "    <tr>\n",
       "      <th>4</th>\n",
       "      <td>72</td>\n",
       "      <td>Male</td>\n",
       "      <td>3.9</td>\n",
       "      <td>2.0</td>\n",
       "      <td>195</td>\n",
       "      <td>27</td>\n",
       "      <td>59</td>\n",
       "      <td>7.3</td>\n",
       "      <td>2.4</td>\n",
       "      <td>0.40</td>\n",
       "      <td>1</td>\n",
       "    </tr>\n",
       "  </tbody>\n",
       "</table>\n",
       "</div>"
      ],
      "text/plain": [
       "   age  gender  tot_bilirubin  direct_bilirubin  tot_proteins  albumin  \\\n",
       "0   65  Female            0.7               0.1           187       16   \n",
       "1   62    Male           10.9               5.5           699       64   \n",
       "2   62    Male            7.3               4.1           490       60   \n",
       "3   58    Male            1.0               0.4           182       14   \n",
       "4   72    Male            3.9               2.0           195       27   \n",
       "\n",
       "   ag_ratio  sgpt  sgot  alkphos  is_patient  \n",
       "0        18   6.8   3.3     0.90           1  \n",
       "1       100   7.5   3.2     0.74           1  \n",
       "2        68   7.0   3.3     0.89           1  \n",
       "3        20   6.8   3.4     1.00           1  \n",
       "4        59   7.3   2.4     0.40           1  "
      ]
     },
     "execution_count": 6,
     "metadata": {},
     "output_type": "execute_result"
    }
   ],
   "source": [
    "df = pd.read_csv(\"Indian Liver Patient Dataset (ILPD).csv\")\n",
    "df.head()"
   ]
  },
  {
   "cell_type": "markdown",
   "id": "550b1047",
   "metadata": {},
   "source": [
    "## 🧾 Dataset Structure Overview  \n",
    "\n",
    "To better understand the dataset, we use the info() method:  \n",
    "\n",
    "- Displays the number of rows and columns  \n",
    "- Shows each feature’s data type (numeric, object, etc.)  \n",
    "- Indicates the count of non-null (non-missing) values per column  \n",
    "\n",
    "This step helps identify potential *data quality issues* such as missing values or incorrect data types that may need preprocessing."
   ]
  },
  {
   "cell_type": "code",
   "execution_count": 7,
   "id": "60e0016c",
   "metadata": {},
   "outputs": [
    {
     "name": "stdout",
     "output_type": "stream",
     "text": [
      "<class 'pandas.core.frame.DataFrame'>\n",
      "RangeIndex: 583 entries, 0 to 582\n",
      "Data columns (total 11 columns):\n",
      " #   Column            Non-Null Count  Dtype  \n",
      "---  ------            --------------  -----  \n",
      " 0   age               583 non-null    int64  \n",
      " 1   gender            583 non-null    object \n",
      " 2   tot_bilirubin     583 non-null    float64\n",
      " 3   direct_bilirubin  583 non-null    float64\n",
      " 4   tot_proteins      583 non-null    int64  \n",
      " 5   albumin           583 non-null    int64  \n",
      " 6   ag_ratio          583 non-null    int64  \n",
      " 7   sgpt              583 non-null    float64\n",
      " 8   sgot              583 non-null    float64\n",
      " 9   alkphos           579 non-null    float64\n",
      " 10  is_patient        583 non-null    int64  \n",
      "dtypes: float64(5), int64(5), object(1)\n",
      "memory usage: 50.2+ KB\n"
     ]
    }
   ],
   "source": [
    "df.info()"
   ]
  },
  {
   "cell_type": "markdown",
   "id": "20d212f3",
   "metadata": {},
   "source": [
    "## 📏 Dataset Dimensions  \n",
    "\n",
    "To understand the overall size of the dataset, we use the shape attribute:  \n",
    "\n",
    "- Returns a tuple in the format *(rows, columns)*  \n",
    "- Helps us quickly identify how many patient records (rows) and features (columns) are available  \n",
    "- Useful for confirming successful data loading and comparing dataset size before/after preprocessing steps"
   ]
  },
  {
   "cell_type": "code",
   "execution_count": 8,
   "id": "85e7802b",
   "metadata": {},
   "outputs": [
    {
     "data": {
      "text/plain": [
       "(583, 11)"
      ]
     },
     "execution_count": 8,
     "metadata": {},
     "output_type": "execute_result"
    }
   ],
   "source": [
    "df.shape"
   ]
  },
  {
   "cell_type": "markdown",
   "id": "5d62c904",
   "metadata": {},
   "source": [
    "## 📊 Descriptive Statistics  \n",
    "\n",
    "To gain an initial statistical understanding of the dataset, we use the describe() method:  \n",
    "\n",
    "- Provides summary statistics for numerical features  \n",
    "- Includes metrics such as *count, mean, standard deviation, min, max, and quartiles (25%, 50%, 75%)*  \n",
    "- Helps detect potential *outliers*, skewed distributions, or unusual values  \n",
    "- A critical step before applying data preprocessing and machine learning models"
   ]
  },
  {
   "cell_type": "code",
   "execution_count": 9,
   "id": "7b5bb44b",
   "metadata": {},
   "outputs": [
    {
     "data": {
      "text/html": [
       "<div>\n",
       "<style scoped>\n",
       "    .dataframe tbody tr th:only-of-type {\n",
       "        vertical-align: middle;\n",
       "    }\n",
       "\n",
       "    .dataframe tbody tr th {\n",
       "        vertical-align: top;\n",
       "    }\n",
       "\n",
       "    .dataframe thead th {\n",
       "        text-align: right;\n",
       "    }\n",
       "</style>\n",
       "<table border=\"1\" class=\"dataframe\">\n",
       "  <thead>\n",
       "    <tr style=\"text-align: right;\">\n",
       "      <th></th>\n",
       "      <th>age</th>\n",
       "      <th>tot_bilirubin</th>\n",
       "      <th>direct_bilirubin</th>\n",
       "      <th>tot_proteins</th>\n",
       "      <th>albumin</th>\n",
       "      <th>ag_ratio</th>\n",
       "      <th>sgpt</th>\n",
       "      <th>sgot</th>\n",
       "      <th>alkphos</th>\n",
       "      <th>is_patient</th>\n",
       "    </tr>\n",
       "  </thead>\n",
       "  <tbody>\n",
       "    <tr>\n",
       "      <th>count</th>\n",
       "      <td>583.000000</td>\n",
       "      <td>583.000000</td>\n",
       "      <td>583.000000</td>\n",
       "      <td>583.000000</td>\n",
       "      <td>583.000000</td>\n",
       "      <td>583.000000</td>\n",
       "      <td>583.000000</td>\n",
       "      <td>583.000000</td>\n",
       "      <td>579.000000</td>\n",
       "      <td>583.000000</td>\n",
       "    </tr>\n",
       "    <tr>\n",
       "      <th>mean</th>\n",
       "      <td>44.746141</td>\n",
       "      <td>3.298799</td>\n",
       "      <td>1.486106</td>\n",
       "      <td>290.576329</td>\n",
       "      <td>80.713551</td>\n",
       "      <td>109.910806</td>\n",
       "      <td>6.483190</td>\n",
       "      <td>3.141852</td>\n",
       "      <td>0.947064</td>\n",
       "      <td>1.286449</td>\n",
       "    </tr>\n",
       "    <tr>\n",
       "      <th>std</th>\n",
       "      <td>16.189833</td>\n",
       "      <td>6.209522</td>\n",
       "      <td>2.808498</td>\n",
       "      <td>242.937989</td>\n",
       "      <td>182.620356</td>\n",
       "      <td>288.918529</td>\n",
       "      <td>1.085451</td>\n",
       "      <td>0.795519</td>\n",
       "      <td>0.319592</td>\n",
       "      <td>0.452490</td>\n",
       "    </tr>\n",
       "    <tr>\n",
       "      <th>min</th>\n",
       "      <td>4.000000</td>\n",
       "      <td>0.400000</td>\n",
       "      <td>0.100000</td>\n",
       "      <td>63.000000</td>\n",
       "      <td>10.000000</td>\n",
       "      <td>10.000000</td>\n",
       "      <td>2.700000</td>\n",
       "      <td>0.900000</td>\n",
       "      <td>0.300000</td>\n",
       "      <td>1.000000</td>\n",
       "    </tr>\n",
       "    <tr>\n",
       "      <th>25%</th>\n",
       "      <td>33.000000</td>\n",
       "      <td>0.800000</td>\n",
       "      <td>0.200000</td>\n",
       "      <td>175.500000</td>\n",
       "      <td>23.000000</td>\n",
       "      <td>25.000000</td>\n",
       "      <td>5.800000</td>\n",
       "      <td>2.600000</td>\n",
       "      <td>0.700000</td>\n",
       "      <td>1.000000</td>\n",
       "    </tr>\n",
       "    <tr>\n",
       "      <th>50%</th>\n",
       "      <td>45.000000</td>\n",
       "      <td>1.000000</td>\n",
       "      <td>0.300000</td>\n",
       "      <td>208.000000</td>\n",
       "      <td>35.000000</td>\n",
       "      <td>42.000000</td>\n",
       "      <td>6.600000</td>\n",
       "      <td>3.100000</td>\n",
       "      <td>0.930000</td>\n",
       "      <td>1.000000</td>\n",
       "    </tr>\n",
       "    <tr>\n",
       "      <th>75%</th>\n",
       "      <td>58.000000</td>\n",
       "      <td>2.600000</td>\n",
       "      <td>1.300000</td>\n",
       "      <td>298.000000</td>\n",
       "      <td>60.500000</td>\n",
       "      <td>87.000000</td>\n",
       "      <td>7.200000</td>\n",
       "      <td>3.800000</td>\n",
       "      <td>1.100000</td>\n",
       "      <td>2.000000</td>\n",
       "    </tr>\n",
       "    <tr>\n",
       "      <th>max</th>\n",
       "      <td>90.000000</td>\n",
       "      <td>75.000000</td>\n",
       "      <td>19.700000</td>\n",
       "      <td>2110.000000</td>\n",
       "      <td>2000.000000</td>\n",
       "      <td>4929.000000</td>\n",
       "      <td>9.600000</td>\n",
       "      <td>5.500000</td>\n",
       "      <td>2.800000</td>\n",
       "      <td>2.000000</td>\n",
       "    </tr>\n",
       "  </tbody>\n",
       "</table>\n",
       "</div>"
      ],
      "text/plain": [
       "              age  tot_bilirubin  direct_bilirubin  tot_proteins      albumin  \\\n",
       "count  583.000000     583.000000        583.000000    583.000000   583.000000   \n",
       "mean    44.746141       3.298799          1.486106    290.576329    80.713551   \n",
       "std     16.189833       6.209522          2.808498    242.937989   182.620356   \n",
       "min      4.000000       0.400000          0.100000     63.000000    10.000000   \n",
       "25%     33.000000       0.800000          0.200000    175.500000    23.000000   \n",
       "50%     45.000000       1.000000          0.300000    208.000000    35.000000   \n",
       "75%     58.000000       2.600000          1.300000    298.000000    60.500000   \n",
       "max     90.000000      75.000000         19.700000   2110.000000  2000.000000   \n",
       "\n",
       "          ag_ratio        sgpt        sgot     alkphos  is_patient  \n",
       "count   583.000000  583.000000  583.000000  579.000000  583.000000  \n",
       "mean    109.910806    6.483190    3.141852    0.947064    1.286449  \n",
       "std     288.918529    1.085451    0.795519    0.319592    0.452490  \n",
       "min      10.000000    2.700000    0.900000    0.300000    1.000000  \n",
       "25%      25.000000    5.800000    2.600000    0.700000    1.000000  \n",
       "50%      42.000000    6.600000    3.100000    0.930000    1.000000  \n",
       "75%      87.000000    7.200000    3.800000    1.100000    2.000000  \n",
       "max    4929.000000    9.600000    5.500000    2.800000    2.000000  "
      ]
     },
     "execution_count": 9,
     "metadata": {},
     "output_type": "execute_result"
    }
   ],
   "source": [
    "df.describe()"
   ]
  },
  {
   "cell_type": "markdown",
   "id": "df16e1b8",
   "metadata": {},
   "source": [
    "## 🔍 Missing Values Check  \n",
    "\n",
    "Before building any machine learning model, it is essential to check for *missing values* in the dataset.  \n",
    "\n",
    "We use df.isnull().sum() to:  \n",
    "- Count the number of missing (null) entries in each column  \n",
    "- Identify which features require data cleaning or imputation  \n",
    "- Ensure data quality and reliability before further preprocessing"
   ]
  },
  {
   "cell_type": "code",
   "execution_count": 10,
   "id": "2bbb530d",
   "metadata": {},
   "outputs": [
    {
     "data": {
      "text/plain": [
       "age                 0\n",
       "gender              0\n",
       "tot_bilirubin       0\n",
       "direct_bilirubin    0\n",
       "tot_proteins        0\n",
       "albumin             0\n",
       "ag_ratio            0\n",
       "sgpt                0\n",
       "sgot                0\n",
       "alkphos             4\n",
       "is_patient          0\n",
       "dtype: int64"
      ]
     },
     "execution_count": 10,
     "metadata": {},
     "output_type": "execute_result"
    }
   ],
   "source": [
    "df.isnull().sum()"
   ]
  },
  {
   "cell_type": "markdown",
   "id": "042e40f0",
   "metadata": {},
   "source": [
    "## 🛠 Handling Missing Values  \n",
    "\n",
    "The dataset contains a few missing values in the **alkphos** (Alkaline Phosphotase) feature.  \n",
    "Since this feature is *numerical, we handle the missing values using **mean imputation*:  \n",
    "\n",
    "- Calculate the mean of the alkphos column  \n",
    "- Replace all missing entries with this mean value  \n",
    "- Ensures consistency and prevents data loss without introducing significant bias"
   ]
  },
  {
   "cell_type": "code",
   "execution_count": 11,
   "id": "ba207a4a",
   "metadata": {},
   "outputs": [
    {
     "data": {
      "text/plain": [
       "age                 0\n",
       "gender              0\n",
       "tot_bilirubin       0\n",
       "direct_bilirubin    0\n",
       "tot_proteins        0\n",
       "albumin             0\n",
       "ag_ratio            0\n",
       "sgpt                0\n",
       "sgot                0\n",
       "alkphos             0\n",
       "is_patient          0\n",
       "dtype: int64"
      ]
     },
     "execution_count": 11,
     "metadata": {},
     "output_type": "execute_result"
    }
   ],
   "source": [
    "#filling the missing values with average of numbers \n",
    "df['alkphos'] = df['alkphos'].fillna(df['alkphos'].mean())\n",
    "\n",
    "#rechecking for missing values \n",
    "df.isnull().sum()"
   ]
  },
  {
   "cell_type": "markdown",
   "id": "1ff9d16f",
   "metadata": {},
   "source": [
    "## 🧩 Encoding Categorical Features  \n",
    "\n",
    "The dataset contains categorical features such as **gender**.  \n",
    "Machine learning models require numerical inputs, so we convert categorical variables into numeric form using *One-Hot Encoding*.  \n",
    "\n",
    "We use pd.get_dummies() with the following settings:  \n",
    "- drop_first=True → avoids the dummy variable trap by dropping the first category  \n",
    "- dtype=int → ensures the encoded values are integers (0 or 1)"
   ]
  },
  {
   "cell_type": "code",
   "execution_count": 12,
   "id": "0ac822c2",
   "metadata": {},
   "outputs": [
    {
     "data": {
      "text/html": [
       "<div>\n",
       "<style scoped>\n",
       "    .dataframe tbody tr th:only-of-type {\n",
       "        vertical-align: middle;\n",
       "    }\n",
       "\n",
       "    .dataframe tbody tr th {\n",
       "        vertical-align: top;\n",
       "    }\n",
       "\n",
       "    .dataframe thead th {\n",
       "        text-align: right;\n",
       "    }\n",
       "</style>\n",
       "<table border=\"1\" class=\"dataframe\">\n",
       "  <thead>\n",
       "    <tr style=\"text-align: right;\">\n",
       "      <th></th>\n",
       "      <th>age</th>\n",
       "      <th>tot_bilirubin</th>\n",
       "      <th>direct_bilirubin</th>\n",
       "      <th>tot_proteins</th>\n",
       "      <th>albumin</th>\n",
       "      <th>ag_ratio</th>\n",
       "      <th>sgpt</th>\n",
       "      <th>sgot</th>\n",
       "      <th>alkphos</th>\n",
       "      <th>is_patient</th>\n",
       "      <th>gender_Male</th>\n",
       "    </tr>\n",
       "  </thead>\n",
       "  <tbody>\n",
       "    <tr>\n",
       "      <th>0</th>\n",
       "      <td>65</td>\n",
       "      <td>0.7</td>\n",
       "      <td>0.1</td>\n",
       "      <td>187</td>\n",
       "      <td>16</td>\n",
       "      <td>18</td>\n",
       "      <td>6.8</td>\n",
       "      <td>3.3</td>\n",
       "      <td>0.90</td>\n",
       "      <td>1</td>\n",
       "      <td>0</td>\n",
       "    </tr>\n",
       "    <tr>\n",
       "      <th>1</th>\n",
       "      <td>62</td>\n",
       "      <td>10.9</td>\n",
       "      <td>5.5</td>\n",
       "      <td>699</td>\n",
       "      <td>64</td>\n",
       "      <td>100</td>\n",
       "      <td>7.5</td>\n",
       "      <td>3.2</td>\n",
       "      <td>0.74</td>\n",
       "      <td>1</td>\n",
       "      <td>1</td>\n",
       "    </tr>\n",
       "    <tr>\n",
       "      <th>2</th>\n",
       "      <td>62</td>\n",
       "      <td>7.3</td>\n",
       "      <td>4.1</td>\n",
       "      <td>490</td>\n",
       "      <td>60</td>\n",
       "      <td>68</td>\n",
       "      <td>7.0</td>\n",
       "      <td>3.3</td>\n",
       "      <td>0.89</td>\n",
       "      <td>1</td>\n",
       "      <td>1</td>\n",
       "    </tr>\n",
       "    <tr>\n",
       "      <th>3</th>\n",
       "      <td>58</td>\n",
       "      <td>1.0</td>\n",
       "      <td>0.4</td>\n",
       "      <td>182</td>\n",
       "      <td>14</td>\n",
       "      <td>20</td>\n",
       "      <td>6.8</td>\n",
       "      <td>3.4</td>\n",
       "      <td>1.00</td>\n",
       "      <td>1</td>\n",
       "      <td>1</td>\n",
       "    </tr>\n",
       "    <tr>\n",
       "      <th>4</th>\n",
       "      <td>72</td>\n",
       "      <td>3.9</td>\n",
       "      <td>2.0</td>\n",
       "      <td>195</td>\n",
       "      <td>27</td>\n",
       "      <td>59</td>\n",
       "      <td>7.3</td>\n",
       "      <td>2.4</td>\n",
       "      <td>0.40</td>\n",
       "      <td>1</td>\n",
       "      <td>1</td>\n",
       "    </tr>\n",
       "  </tbody>\n",
       "</table>\n",
       "</div>"
      ],
      "text/plain": [
       "   age  tot_bilirubin  direct_bilirubin  tot_proteins  albumin  ag_ratio  \\\n",
       "0   65            0.7               0.1           187       16        18   \n",
       "1   62           10.9               5.5           699       64       100   \n",
       "2   62            7.3               4.1           490       60        68   \n",
       "3   58            1.0               0.4           182       14        20   \n",
       "4   72            3.9               2.0           195       27        59   \n",
       "\n",
       "   sgpt  sgot  alkphos  is_patient  gender_Male  \n",
       "0   6.8   3.3     0.90           1            0  \n",
       "1   7.5   3.2     0.74           1            1  \n",
       "2   7.0   3.3     0.89           1            1  \n",
       "3   6.8   3.4     1.00           1            1  \n",
       "4   7.3   2.4     0.40           1            1  "
      ]
     },
     "execution_count": 12,
     "metadata": {},
     "output_type": "execute_result"
    }
   ],
   "source": [
    "#categorical encoding \n",
    "df = pd.get_dummies(df, drop_first= True, dtype= int)\n",
    "\n",
    "#display the first five rows after encoding\n",
    "df.head()"
   ]
  },
  {
   "cell_type": "markdown",
   "id": "b9e5a91a",
   "metadata": {},
   "source": [
    "## 🔗 Correlation Analysis  \n",
    "\n",
    "Before training the model, it is useful to explore the *correlation matrix* of the dataset.  \n",
    "\n",
    "- Shows the strength and direction of linear relationships between numerical features  \n",
    "- Helps identify highly correlated variables (possible multicollinearity)  \n",
    "- Allows us to check how features relate to the target variable  \n",
    "\n",
    "We visualize the correlations using a *heatmap* for better interpretability."
   ]
  },
  {
   "cell_type": "code",
   "execution_count": 13,
   "id": "6e26eed3",
   "metadata": {},
   "outputs": [
    {
     "data": {
      "image/png": "[encoded data removed]",
      "text/plain": [
       "<Figure size 1200x800 with 2 Axes>"
      ]
     },
     "metadata": {},
     "output_type": "display_data"
    }
   ],
   "source": [
    "# Compute correlation matrix\n",
    "corr_matrix = df.corr()\n",
    "\n",
    "# Set up the matplotlib figure\n",
    "plt.figure(figsize=(12, 8))\n",
    "\n",
    "# Plot heatmap\n",
    "sns.heatmap(corr_matrix, annot=True, fmt=\".2f\", cmap=\"coolwarm\", cbar=True)\n",
    "\n",
    "plt.title(\"Correlation Heatmap\", fontsize=16)\n",
    "plt.show()"
   ]
  },
  {
   "cell_type": "markdown",
   "id": "ed5beaa7",
   "metadata": {},
   "source": [
    "## 🎯 Defining Features (X) and Target (y)  \n",
    "\n",
    "To train a machine learning model, we need to separate:  \n",
    "\n",
    "- *Features (X):* All independent variables that will be used for prediction  \n",
    "- *Target (y):* The dependent variable (in this dataset → whether the patient has liver disease or not)  \n",
    "\n",
    "This step ensures a clear distinction between input data and the prediction label."
   ]
  },
  {
   "cell_type": "code",
   "execution_count": 14,
   "id": "9cc9a013",
   "metadata": {},
   "outputs": [],
   "source": [
    "x = df.drop('is_patient', axis=1)\n",
    "y = df['is_patient']"
   ]
  },
  {
   "cell_type": "markdown",
   "id": "ff8ed4fe",
   "metadata": {},
   "source": [
    "## 🧪 Train-Test Split  \n",
    "\n",
    "To properly evaluate our model, we split the dataset into *training* and *testing* sets:  \n",
    "\n",
    "- *Training set (e.g., 80%)* → used to train the machine learning model  \n",
    "- *Testing set (e.g., 20%)* → used to evaluate model performance on unseen data  \n",
    "\n",
    "This step ensures that the model is not just memorizing the training data but can also generalize well to new, unseen cases.  \n",
    "\n",
    "We use train_test_split from scikit-learn to perform the split."
   ]
  },
  {
   "cell_type": "code",
   "execution_count": 15,
   "id": "301d9925",
   "metadata": {},
   "outputs": [],
   "source": [
    "x_train,x_test,y_train,y_test = train_test_split(x,y,test_size=0.2, random_state=42)"
   ]
  },
  {
   "cell_type": "markdown",
   "id": "c2694e6f",
   "metadata": {},
   "source": [
    "## ⚖ Feature Scaling  \n",
    "\n",
    "Many machine learning algorithms are sensitive to the *scale of features*.  \n",
    "Since our dataset contains variables with different ranges (e.g., age, enzymes, proteins),  \n",
    "we apply *Standardization* using StandardScaler from scikit-learn.  \n",
    "\n",
    "Standardization transforms the features such that:  \n",
    "- Mean = 0  \n",
    "- Standard deviation = 1  \n",
    "\n",
    "This ensures that all features contribute equally to the model and improves convergence for algorithms like Logistic Regression and SVM."
   ]
  },
  {
   "cell_type": "code",
   "execution_count": 17,
   "id": "2bf28f55",
   "metadata": {},
   "outputs": [],
   "source": [
    "scaler = StandardScaler()\n",
    "\n",
    "x_train_scaler = scaler.fit_transform(x_train)\n",
    "\n",
    "x_test_scaled = scaler.transform(x_test)"
   ]
  },
  {
   "cell_type": "markdown",
   "id": "8c49f5ce",
   "metadata": {},
   "source": [
    "## 🤖 Training Logistic Regression Model  \n",
    "\n",
    "With the data preprocessed and scaled, we now train a *Logistic Regression* model:  \n",
    "\n",
    "- Fit the model on the *training set*  \n",
    "- Use the trained model to make predictions on the *test set*  \n",
    "- Store the predictions for evaluation in the next step"
   ]
  },
  {
   "cell_type": "code",
   "execution_count": 20,
   "id": "79919d3b",
   "metadata": {},
   "outputs": [],
   "source": [
    "log_regression = LogisticRegression()\n",
    "\n",
    "log_regression.fit(x_train_scaler, y_train)\n",
    "\n",
    "y_pred = log_regression.predict(x_test_scaled)"
   ]
  },
  {
   "cell_type": "markdown",
   "id": "d95f5248",
   "metadata": {},
   "source": [
    "## 📊 Model Evaluation  \n",
    "\n",
    "To assess the performance of the Logistic Regression model, we use the following metrics:  \n",
    "\n",
    "- *Accuracy* → overall correctness of predictions  \n",
    "- *Classification Report* → includes Precision, Recall, and F1-score for each class  \n",
    "- *Confusion Matrix* → provides detailed insight into correctly and incorrectly classified cases  \n",
    "\n",
    "These metrics help us understand both the general performance and where the model makes mistakes."
   ]
  },
  {
   "cell_type": "code",
   "execution_count": 21,
   "id": "febfdacc",
   "metadata": {},
   "outputs": [
    {
     "name": "stdout",
     "output_type": "stream",
     "text": [
      "Accuracy: 0.7606837606837606\n",
      "\n",
      "Classification Report:\n",
      "\n",
      "              precision    recall  f1-score   support\n",
      "\n",
      "           1       0.79      0.92      0.85        87\n",
      "           2       0.56      0.30      0.39        30\n",
      "\n",
      "    accuracy                           0.76       117\n",
      "   macro avg       0.68      0.61      0.62       117\n",
      "weighted avg       0.73      0.76      0.73       117\n",
      "\n",
      "\n",
      "Confusion Matrix:\n",
      "\n",
      "[[80  7]\n",
      " [21  9]]\n"
     ]
    }
   ],
   "source": [
    "# Calculate Accuracy\n",
    "accuracy = accuracy_score(y_test, y_pred)\n",
    "print(\"Accuracy:\", accuracy)\n",
    "\n",
    "# Classification Report\n",
    "print(\"\\nClassification Report:\\n\")\n",
    "print(classification_report(y_test, y_pred))\n",
    "\n",
    "# Confusion Matrix\n",
    "print(\"\\nConfusion Matrix:\\n\")\n",
    "print(confusion_matrix(y_test, y_pred))"
   ]
  },
  {
   "cell_type": "markdown",
   "id": "8e6ac468",
   "metadata": {},
   "source": [
    "## 🖼 Visualizing the Confusion Matrix  \n",
    "\n",
    "While the numeric confusion matrix provides exact values, a *heatmap visualization* makes it easier to interpret:  \n",
    "\n",
    "- *True Positives (TP):* correctly predicted positive cases  \n",
    "- *True Negatives (TN):* correctly predicted negative cases  \n",
    "- *False Positives (FP):* incorrectly predicted as positive  \n",
    "- *False Negatives (FN):* incorrectly predicted as negative  \n",
    "\n",
    "This visualization highlights model strengths and weaknesses in classification."
   ]
  },
  {
   "cell_type": "code",
   "execution_count": 22,
   "id": "c91c2170",
   "metadata": {},
   "outputs": [
    {
     "data": {
      "image/png": "[encoded data removed]",
      "text/plain": [
       "<Figure size 600x400 with 1 Axes>"
      ]
     },
     "metadata": {},
     "output_type": "display_data"
    }
   ],
   "source": [
    "# Generate the confusion matrix\n",
    "cm = confusion_matrix(y_test, y_pred)\n",
    "\n",
    "# Plot the heatmap\n",
    "plt.figure(figsize=(6, 4))\n",
    "sns.heatmap(cm, annot=True, fmt=\"d\", cmap=\"Blues\", cbar=False,\n",
    "            xticklabels=[\"No Disease\", \"Disease\"],\n",
    "            yticklabels=[\"No Disease\", \"Disease\"])\n",
    "\n",
    "plt.xlabel(\"Predicted\")\n",
    "plt.ylabel(\"Actual\")\n",
    "plt.title(\"Confusion Matrix Heatmap\")\n",
    "plt.show()"
   ]
  },
  {
   "cell_type": "markdown",
   "id": "c49242d1",
   "metadata": {},
   "source": [
    "## 🔄 Cross-Validation for Model Validation  \n",
    "\n",
    "To obtain a more reliable estimate of model performance,  \n",
    "we use *k-Fold Cross-Validation* (e.g., k=5):  \n",
    "\n",
    "- The dataset is split into k equal folds  \n",
    "- The model is trained on k-1 folds and tested on the remaining fold  \n",
    "- This process repeats k times, each time with a different test fold  \n",
    "- Final performance is the *average score across all folds*  \n",
    "\n",
    "This method reduces bias from a single train-test split and ensures the model generalizes well."
   ]
  },
  {
   "cell_type": "code",
   "execution_count": 24,
   "id": "356e1649",
   "metadata": {},
   "outputs": [
    {
     "name": "stdout",
     "output_type": "stream",
     "text": [
      "Cross-Validation Scores: [0.7008547  0.72649573 0.70940171 0.70689655 0.72413793]\n",
      "Mean Accuracy: 0.7135573239021514\n"
     ]
    }
   ],
   "source": [
    "# Initialize Logistic Regression model\n",
    "log_reg = LogisticRegression(random_state=42, max_iter=1000)\n",
    "\n",
    "# Perform 5-fold cross-validation using accuracy as the metric\n",
    "cv_scores = cross_val_score(log_reg, x, y, cv=5, scoring='accuracy')\n",
    "\n",
    "print(\"Cross-Validation Scores:\", cv_scores)\n",
    "print(\"Mean Accuracy:\", cv_scores.mean())"
   ]
  },
  {
   "cell_type": "markdown",
   "id": "8c54407a",
   "metadata": {},
   "source": [
    "## ✅ Conclusion  \n",
    "\n",
    "In this project, we built a *machine learning model* to predict liver disease using the  \n",
    "*Indian Liver Patient Dataset (ILPD)*.  \n",
    "Key steps included:  \n",
    "\n",
    "- Handling missing values with mean imputation  \n",
    "- Encoding categorical variables (e.g., gender)  \n",
    "- Splitting data into training and test sets  \n",
    "- Scaling features for better model performance  \n",
    "- Training and evaluating a *Logistic Regression* model  \n",
    "\n",
    "The Logistic Regression model achieved an accuracy of ~76% on the test set and ~71% average accuracy under cross-validation.  \n",
    "The model showed strong performance in detecting patients with liver disease but struggled to correctly classify healthy individuals.  \n",
    "\n",
    "---\n",
    "\n",
    "## 🔮 Future Work  \n",
    "\n",
    "To further improve the performance and reliability of the model, the following steps are recommended:  \n",
    "\n",
    "1. *Data Balancing:*  \n",
    "   Apply techniques like *SMOTE (Synthetic Minority Oversampling Technique)* or undersampling to address class imbalance.  \n",
    "\n",
    "2. *Model Improvements:*  \n",
    "   Experiment with more advanced algorithms such as *Random Forest, **XGBoost, or **LightGBM*, which may handle imbalanced data better.  \n",
    "\n",
    "3. *Hyperparameter Tuning:*  \n",
    "   Use *GridSearchCV* or *RandomizedSearchCV* to optimize model parameters for better performance.  \n",
    "\n",
    "4. *Feature Engineering:*  \n",
    "   Explore new features or transformations (ratios, non-linear terms) that may capture hidden patterns in the dataset.  \n",
    "\n",
    "5. *Larger & Cleaner Dataset:*  \n",
    "   Gathering more patient data and ensuring higher data quality would help reduce noise and improve generalization.  \n",
    "\n",
    "---\n",
    "\n",
    "## ⚠ Data Limitations  \n",
    "\n",
    "- *Imbalanced Classes:*  \n",
    "  The dataset contains significantly more patients with liver disease than healthy individuals.  \n",
    "  This imbalance leads the model to bias predictions towards the majority class.  \n",
    "\n",
    "- *Small Dataset Size:*  \n",
    "  With ~580 records, the dataset is relatively small for training robust models.  \n",
    "  This limits the model’s ability to capture complex patterns.  \n",
    "\n",
    "- *Noise in Medical Data:*  \n",
    "  Laboratory results and clinical data often include measurement errors or natural variability,  \n",
    "  which can reduce the model’s predictive power.  \n",
    "\n",
    "Despite these challenges, this project demonstrates the feasibility of using machine learning for liver disease prediction and provides a solid baseline for future improvements."
   ]
  }
 ],
 "metadata": {
  "kernelspec": {
   "display_name": "myenv",
   "language": "python",
   "name": "myenv"
  },
  "language_info": {
   "codemirror_mode": {
    "name": "ipython",
    "version": 3
   },
   "file_extension": ".py",
   "mimetype": "text/x-python",
   "name": "python",
   "nbconvert_exporter": "python",
   "pygments_lexer": "ipython3",
   "version": "3.12.10"
  }
 },
 "nbformat": 4,
 "nbformat_minor": 5
}
